{
  "cells": [
    {
      "cell_type": "code",
      "execution_count": null,
      "metadata": {
        "id": "SqHG1-4bjL3F",
        "colab": {
          "base_uri": "https://localhost:8080/"
        },
        "outputId": "e9b886fe-ecbe-4ae5-eb4b-a02dcb9698ff"
      },
      "outputs": [
        {
          "output_type": "stream",
          "name": "stdout",
          "text": [
            "\u001b[2K     \u001b[90m━━━━━━━━━━━━━━━━━━━━━━━━━━━━━━━━━━━━━━━━\u001b[0m \u001b[32m96.2/96.2 kB\u001b[0m \u001b[31m1.3 MB/s\u001b[0m eta \u001b[36m0:00:00\u001b[0m\n",
            "\u001b[2K     \u001b[90m━━━━━━━━━━━━━━━━━━━━━━━━━━━━━━━━━━━━━━━━\u001b[0m \u001b[32m9.6/9.6 MB\u001b[0m \u001b[31m17.3 MB/s\u001b[0m eta \u001b[36m0:00:00\u001b[0m\n",
            "\u001b[?25h"
          ]
        }
      ],
      "source": [
        "!pip install -q tensorflow-recommenders\n",
        "!pip install -q scann"
      ]
    },
    {
      "cell_type": "code",
      "execution_count": null,
      "metadata": {
        "id": "pk6Bl3jpUrFs"
      },
      "outputs": [],
      "source": [
        "from typing import Dict, Text\n",
        "import os\n",
        "import pprint\n",
        "import tempfile\n",
        "import datetime\n",
        "import pandas as pd\n",
        "import numpy as np\n",
        "import tensorflow as tf\n",
        "import tensorflow_recommenders as tfrs\n",
        "import matplotlib.pyplot as plt\n",
        "%matplotlib inline"
      ]
    },
    {
      "cell_type": "code",
      "execution_count": null,
      "metadata": {
        "id": "tbSdRaLBVDF1"
      },
      "outputs": [],
      "source": [
        "click_data = pd.read_csv(\"/content/drive/MyDrive/Datasets/recommender/CLEVERTRAP MASTER Test-1687804060501.csv\")\n",
        "click_data.head()"
      ]
    },
    {
      "cell_type": "code",
      "execution_count": null,
      "metadata": {
        "id": "HcC1C6xLVF3R"
      },
      "outputs": [],
      "source": [
        "# 'event_props' column contains string values instead of dictionaries\n",
        "# ast.literal_eval() function is used to parse the string values in the 'event_props' column into dictionaries\n",
        "import ast\n",
        "def parse_event_props(x):\n",
        "    if isinstance(x, str):  # Check if x is a string\n",
        "        return ast.literal_eval(x)\n",
        "    else:\n",
        "        return np.nan  # Return nan for non-string values\n",
        "\n",
        "click_data['event_props'] = click_data['event_props'].apply(parse_event_props)"
      ]
    },
    {
      "cell_type": "code",
      "execution_count": null,
      "metadata": {
        "id": "XBDMtJS5VI0u"
      },
      "outputs": [],
      "source": [
        "def get_item_id(x):\n",
        "    if isinstance(x, dict):  # Check if x is a dictionary\n",
        "        return x.get('item_id', None)\n",
        "    else:\n",
        "        return None  # Return None for non-dictionary values\n",
        "\n",
        "click_data['sku']=click_data['event_props'].apply(get_item_id)\n",
        "click_data.dropna(subset=['sku', 'email'], inplace=True)"
      ]
    },
    {
      "cell_type": "code",
      "execution_count": null,
      "metadata": {
        "id": "F_IdDOqTVWZq"
      },
      "outputs": [],
      "source": [
        "event_type_weights = {\n",
        "   'remove_from_cart':0.0,\n",
        "   'view_item': 1.0,\n",
        "   'homepage_carousel_product_press':1.0,\n",
        "   'add_to_cart':2.0,\n",
        "   'image_download':2.0\n",
        "}\n",
        "click_data['events'] = click_data['events'].apply(lambda x: event_type_weights[x])"
      ]
    },
    {
      "cell_type": "code",
      "execution_count": null,
      "metadata": {
        "id": "kHC5dladVfEp"
      },
      "outputs": [],
      "source": [
        "click_data = pd.DataFrame({'email': click_data['email'], 'sku': click_data['sku'],'events':click_data['events']})\n",
        "click_data.head()"
      ]
    },
    {
      "cell_type": "code",
      "execution_count": null,
      "metadata": {
        "id": "DTYw0qEuYhiB"
      },
      "outputs": [],
      "source": [
        "interactions = tf.data.Dataset.from_tensor_slices(dict(click_data))\n",
        "interactions = interactions.map(lambda x: {\n",
        "    'email' : x['email'],\n",
        "    'sku' : x['sku'],\n",
        "    'events' : float(x['events']),\n",
        "\n",
        "})"
      ]
    },
    {
      "cell_type": "code",
      "execution_count": null,
      "metadata": {
        "id": "7X6_1LyEfm19"
      },
      "outputs": [],
      "source": [
        "items = pd.DataFrame(click_data[\"sku\"].unique(), columns=[\"sku\"])\n",
        "items = tf.data.Dataset.from_tensor_slices(dict(items))\n",
        "items = items.map(lambda x: x['sku'])"
      ]
    },
    {
      "cell_type": "code",
      "execution_count": null,
      "metadata": {
        "id": "G5ypC4a4gpPs"
      },
      "outputs": [],
      "source": [
        "tf.random.set_seed(42)\n",
        "shuffled = interactions.shuffle(100_000, seed=42, reshuffle_each_iteration=False)\n",
        "\n",
        "train = shuffled.take(100_000)\n",
        "# test = shuffled.skip(80_000).take(20_000)"
      ]
    },
    {
      "cell_type": "code",
      "execution_count": null,
      "metadata": {
        "id": "TY2x0fEigvPk"
      },
      "outputs": [],
      "source": [
        "item_names = items.batch(1_000)\n",
        "emails = interactions.batch(1_000_000).map(lambda x: x[\"email\"])\n",
        "\n",
        "unique_items = np.unique(np.concatenate(list(item_names)))\n",
        "unique_emails = np.unique(np.concatenate(list(emails)))\n"
      ]
    },
    {
      "cell_type": "code",
      "execution_count": null,
      "metadata": {
        "id": "dyWfZ1EBjhkw"
      },
      "outputs": [],
      "source": [
        "class RecommendationModel(tfrs.Model):\n",
        "  def __init__(self):\n",
        "    super().__init__()\n",
        "    embedding_dimension = 32\n",
        "\n",
        "    self.item_model: tf.keras.Model = tf.keras.Sequential([tf.keras.layers.StringLookup(vocabulary=unique_items, mask_token=None),\n",
        "                                                           tf.keras.layers.Embedding(len(unique_items) + 1, embedding_dimension)\n",
        "    ])\n",
        "\n",
        "    self.email_model: tf.keras.Model = tf.keras.Sequential([tf.keras.layers.StringLookup(vocabulary=unique_emails, mask_token=None),\n",
        "                                                            tf.keras.layers.Embedding(len(unique_emails) + 1, embedding_dimension)\n",
        "    ])\n",
        "\n",
        "    metrics = tfrs.metrics.FactorizedTopK(candidates=items.batch(128).map(self.item_model))\n",
        "    self.task: tf.keras.layers.Layer = tfrs.tasks.Retrieval(metrics=metrics)\n",
        "\n",
        "\n",
        "  def compute_loss(self, features: Dict[Text, tf.Tensor], training=False) -> tf.Tensor:\n",
        "\n",
        "    user_embeddings = self.email_model(features[\"email\"])\n",
        "    item_embeddings = self.item_model(features[\"sku\"])\n",
        "    return self.task(user_embeddings, item_embeddings)"
      ]
    },
    {
      "cell_type": "code",
      "execution_count": null,
      "metadata": {
        "id": "XHXfJY4E4GCA"
      },
      "outputs": [],
      "source": [
        "model = RecommendationModel()\n",
        "model.compile(optimizer=tf.keras.optimizers.Adagrad(learning_rate=0.1))\n",
        "log_dir = \"logs/fit/\" + datetime.datetime.now().strftime(\"%Y%m%d-%H%M%S\")\n",
        "tensorboard_callback = tf.keras.callbacks.TensorBoard(log_dir=log_dir, histogram_freq=1)"
      ]
    },
    {
      "cell_type": "code",
      "execution_count": null,
      "metadata": {
        "id": "9GWJIFSy4PVd"
      },
      "outputs": [],
      "source": [
        "cached_train = train.shuffle(100_000).batch(8192).cache()\n",
        "# cached_test = test.batch(4096).cache()"
      ]
    },
    {
      "cell_type": "code",
      "execution_count": null,
      "metadata": {
        "id": "8l-J2tE-4Uxl",
        "colab": {
          "base_uri": "https://localhost:8080/"
        },
        "outputId": "34eaee8a-b46f-4ece-cf6c-ad55856456a7"
      },
      "outputs": [
        {
          "output_type": "stream",
          "name": "stdout",
          "text": [
            "Epoch 1/10\n",
            "2/2 [==============================] - 9s 801ms/step - factorized_top_k/top_1_categorical_accuracy: 5.9684e-04 - factorized_top_k/top_5_categorical_accuracy: 0.0071 - factorized_top_k/top_10_categorical_accuracy: 0.0122 - factorized_top_k/top_50_categorical_accuracy: 0.0383 - factorized_top_k/top_100_categorical_accuracy: 0.0648 - loss: 33935.2591 - regularization_loss: 0.0000e+00 - total_loss: 33935.2591\n",
            "Epoch 2/10\n",
            "2/2 [==============================] - 8s 1s/step - factorized_top_k/top_1_categorical_accuracy: 0.0148 - factorized_top_k/top_5_categorical_accuracy: 0.0875 - factorized_top_k/top_10_categorical_accuracy: 0.1355 - factorized_top_k/top_50_categorical_accuracy: 0.3254 - factorized_top_k/top_100_categorical_accuracy: 0.4472 - loss: 33562.4486 - regularization_loss: 0.0000e+00 - total_loss: 33562.4486\n",
            "Epoch 3/10\n",
            "2/2 [==============================] - 6s 1s/step - factorized_top_k/top_1_categorical_accuracy: 0.0386 - factorized_top_k/top_5_categorical_accuracy: 0.1644 - factorized_top_k/top_10_categorical_accuracy: 0.2383 - factorized_top_k/top_50_categorical_accuracy: 0.4842 - factorized_top_k/top_100_categorical_accuracy: 0.6387 - loss: 32109.3503 - regularization_loss: 0.0000e+00 - total_loss: 32109.3503\n",
            "Epoch 4/10\n",
            "2/2 [==============================] - 8s 1s/step - factorized_top_k/top_1_categorical_accuracy: 0.0407 - factorized_top_k/top_5_categorical_accuracy: 0.1804 - factorized_top_k/top_10_categorical_accuracy: 0.2542 - factorized_top_k/top_50_categorical_accuracy: 0.5181 - factorized_top_k/top_100_categorical_accuracy: 0.6769 - loss: 29895.9056 - regularization_loss: 0.0000e+00 - total_loss: 29895.9056\n",
            "Epoch 5/10\n",
            "2/2 [==============================] - 10s 2s/step - factorized_top_k/top_1_categorical_accuracy: 0.0384 - factorized_top_k/top_5_categorical_accuracy: 0.1908 - factorized_top_k/top_10_categorical_accuracy: 0.2734 - factorized_top_k/top_50_categorical_accuracy: 0.5538 - factorized_top_k/top_100_categorical_accuracy: 0.7176 - loss: 27721.9759 - regularization_loss: 0.0000e+00 - total_loss: 27721.9759\n",
            "Epoch 6/10\n",
            "2/2 [==============================] - 5s 671ms/step - factorized_top_k/top_1_categorical_accuracy: 0.0504 - factorized_top_k/top_5_categorical_accuracy: 0.2122 - factorized_top_k/top_10_categorical_accuracy: 0.3024 - factorized_top_k/top_50_categorical_accuracy: 0.6115 - factorized_top_k/top_100_categorical_accuracy: 0.7563 - loss: 25960.1608 - regularization_loss: 0.0000e+00 - total_loss: 25960.1608\n",
            "Epoch 7/10\n",
            "2/2 [==============================] - 4s 682ms/step - factorized_top_k/top_1_categorical_accuracy: 0.0576 - factorized_top_k/top_5_categorical_accuracy: 0.2358 - factorized_top_k/top_10_categorical_accuracy: 0.3298 - factorized_top_k/top_50_categorical_accuracy: 0.6550 - factorized_top_k/top_100_categorical_accuracy: 0.7881 - loss: 24596.6549 - regularization_loss: 0.0000e+00 - total_loss: 24596.6549\n",
            "Epoch 8/10\n",
            "2/2 [==============================] - 5s 1s/step - factorized_top_k/top_1_categorical_accuracy: 0.0531 - factorized_top_k/top_5_categorical_accuracy: 0.2249 - factorized_top_k/top_10_categorical_accuracy: 0.3275 - factorized_top_k/top_50_categorical_accuracy: 0.6678 - factorized_top_k/top_100_categorical_accuracy: 0.7995 - loss: 23551.0742 - regularization_loss: 0.0000e+00 - total_loss: 23551.0742\n",
            "Epoch 9/10\n",
            "2/2 [==============================] - 5s 655ms/step - factorized_top_k/top_1_categorical_accuracy: 0.0516 - factorized_top_k/top_5_categorical_accuracy: 0.2272 - factorized_top_k/top_10_categorical_accuracy: 0.3530 - factorized_top_k/top_50_categorical_accuracy: 0.6829 - factorized_top_k/top_100_categorical_accuracy: 0.8150 - loss: 22750.0488 - regularization_loss: 0.0000e+00 - total_loss: 22750.0488\n",
            "Epoch 10/10\n",
            "2/2 [==============================] - 5s 1s/step - factorized_top_k/top_1_categorical_accuracy: 0.0529 - factorized_top_k/top_5_categorical_accuracy: 0.2321 - factorized_top_k/top_10_categorical_accuracy: 0.3630 - factorized_top_k/top_50_categorical_accuracy: 0.6942 - factorized_top_k/top_100_categorical_accuracy: 0.8212 - loss: 22130.8929 - regularization_loss: 0.0000e+00 - total_loss: 22130.8929\n"
          ]
        }
      ],
      "source": [
        "model_hist = model.fit(cached_train, epochs=10, callbacks=[tensorboard_callback])"
      ]
    },
    {
      "cell_type": "code",
      "execution_count": null,
      "metadata": {
        "id": "ODKL3L0F5bCS",
        "colab": {
          "base_uri": "https://localhost:8080/"
        },
        "outputId": "311e65cf-4707-48c1-d7e0-f912b6e812fb"
      },
      "outputs": [
        {
          "output_type": "execute_result",
          "data": {
            "text/plain": [
              "<tensorflow_recommenders.layers.factorized_top_k.ScaNN at 0x79f3ad9f5c90>"
            ]
          },
          "metadata": {},
          "execution_count": 16
        }
      ],
      "source": [
        "scann_index = tfrs.layers.factorized_top_k.ScaNN(model.email_model)\n",
        "scann_index.index_from_dataset(\n",
        "  tf.data.Dataset.zip((items.batch(100), items.batch(100).map(model.item_model)))\n",
        ")"
      ]
    },
    {
      "cell_type": "code",
      "execution_count": null,
      "metadata": {
        "id": "eVlmMfHc6xu3"
      },
      "outputs": [],
      "source": [
        "_, titles = scann_index(tf.constant([\"abcdefghijk@gmail.com\"]))\n",
        "print(f\"Recommendations for user: {titles[0,:].numpy().astype(str)}\")"
      ]
    },
    {
      "cell_type": "code",
      "execution_count": null,
      "metadata": {
        "id": "z_snuf-wPaAb",
        "colab": {
          "base_uri": "https://localhost:8080/"
        },
        "outputId": "64c554ae-98f3-42b7-88eb-18950aea38c8"
      },
      "outputs": [
        {
          "output_type": "stream",
          "name": "stdout",
          "text": [
            "3.35 ms ± 618 µs per loop (mean ± std. dev. of 7 runs, 100 loops each)\n"
          ]
        }
      ],
      "source": [
        "%timeit _, titles = scann_index(tf.constant([\"abcdef@gmail.com\"]))"
      ]
    },
    {
      "cell_type": "code",
      "source": [
        "with tempfile.TemporaryDirectory() as tmp:\n",
        "  path = os.path.join(tmp, \"/content/drive/MyDrive/Datasets\")\n",
        "\n",
        "  # Save the index.\n",
        "  tf.saved_model.save(\n",
        "      scann_index,\n",
        "      path,\n",
        "      options=tf.saved_model.SaveOptions(namespace_whitelist=[\"Scann\"])\n",
        "  )"
      ],
      "metadata": {
        "colab": {
          "base_uri": "https://localhost:8080/"
        },
        "id": "Ok7hBVNI2AtH",
        "outputId": "58a5c926-0e2a-4bb2-8810-f87a1525e651"
      },
      "execution_count": null,
      "outputs": [
        {
          "output_type": "stream",
          "name": "stderr",
          "text": [
            "WARNING:tensorflow:Model's `__init__()` arguments contain non-serializable objects. Please implement a `get_config()` method in the subclassed Model for proper saving and loading. Defaulting to empty config.\n",
            "WARNING:tensorflow:Model's `__init__()` arguments contain non-serializable objects. Please implement a `get_config()` method in the subclassed Model for proper saving and loading. Defaulting to empty config.\n"
          ]
        }
      ]
    },
    {
      "cell_type": "code",
      "source": [
        "loaded = tf.saved_model.load(path)\n",
        "_, titles = loaded(tf.constant([\"abcdefghijk@gmail.com\"]))\n",
        "print(f\"Recommendations for user: {titles[0,:].numpy().astype(str)}\")"
      ],
      "metadata": {
        "id": "Fs0ifSnWkSr-"
      },
      "execution_count": null,
      "outputs": []
    }
  ],
  "metadata": {
    "colab": {
      "provenance": []
    },
    "kernelspec": {
      "display_name": "Python 3",
      "name": "python3"
    },
    "language_info": {
      "name": "python"
    }
  },
  "nbformat": 4,
  "nbformat_minor": 0
}